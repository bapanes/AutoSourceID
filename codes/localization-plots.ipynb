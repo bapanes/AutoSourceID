{
 "cells": [
  {
   "cell_type": "markdown",
   "metadata": {},
   "source": [
    "#### here we try to generate all the plots from the stat files"
   ]
  },
  {
   "cell_type": "code",
   "execution_count": 1,
   "metadata": {},
   "outputs": [],
   "source": [
    "import pandas as pd\n",
    "import numpy as np\n",
    "import pylab as pl\n",
    "from astropy import units as u\n",
    "from astropy.coordinates import SkyCoord\n",
    "\n",
    "from matplotlib import pyplot as plt"
   ]
  },
  {
   "cell_type": "markdown",
   "metadata": {},
   "source": [
    "#### Stable numbers above threshold and error function"
   ]
  },
  {
   "cell_type": "code",
   "execution_count": 2,
   "metadata": {},
   "outputs": [],
   "source": [
    "def error_function(n1, n2):\n",
    "    \n",
    "    p = n1/(n1+n2)\n",
    "    n = n1 + n2\n",
    "    \n",
    "    return np.sqrt(p*(1.0-p)/n)\n",
    "\n",
    "def stable_hist_th(bins, hist_tp, hist_fp, hist_fn, threshold, verbose=False):\n",
    "\n",
    "    hist_precision = []\n",
    "    hist_err_precision = []\n",
    "    \n",
    "    hist_recall = []\n",
    "    hist_err_recall = []\n",
    "    \n",
    "    bins_snr = []\n",
    "    \n",
    "    tp_st = 0\n",
    "    fp_st = 0\n",
    "    fn_st = 0\n",
    "    \n",
    "    last_con = 0\n",
    "    bins_con = 0\n",
    "    \n",
    "    first = True\n",
    "    \n",
    "    for con in range(len(hist_tp)):\n",
    "\n",
    "        tp_st = tp_st + hist_tp[con]\n",
    "        fp_st = fp_st + hist_fp[con]\n",
    "        fn_st = fn_st + hist_fn[con]\n",
    "        \n",
    "        #we require enough statistics to compute precision and recall\n",
    "        #and then we restart\n",
    "        #if (tp_st >= threshold or fp_st > threshold or fn_st > threshold):\n",
    "        if (tp_st >= threshold):\n",
    "            \n",
    "            precision = 0\n",
    "            recall = 0\n",
    "            \n",
    "            err_precision = 0\n",
    "            err_recall = 0\n",
    "            \n",
    "            if ((tp_st + fp_st) > 0):\n",
    "                precision = tp_st/(tp_st + fp_st)\n",
    "                err_precision = error_function(tp_st, fp_st)\n",
    "            \n",
    "            if ((tp_st + fn_st) > 0):\n",
    "                recall = tp_st/(tp_st + fn_st)\n",
    "                err_recall = error_function(tp_st, fn_st)\n",
    "                \n",
    "            if verbose:\n",
    "                if first:\n",
    "                    print(\"\\nHistogram Info\\n\")\n",
    "                    print(\"Bin, TP, FP, FN, Purity, Err_Pur, Completness, Err_Com\")\n",
    "                    first = False\n",
    "               \n",
    "                print(\"%.2E, %.0f, %.0f, %.0f, %.2f, %.2f, %.2f, %.2f\"%(bins[con],tp_st,fp_st,fn_st, precision, err_precision, recall, err_recall))\n",
    "            \n",
    "            bins_snr.append(bins[con])\n",
    "                    \n",
    "            hist_precision.append(precision)\n",
    "            hist_err_precision.append(err_precision)\n",
    "            \n",
    "            hist_recall.append(recall)\n",
    "            hist_err_recall.append(err_recall)\n",
    "        \n",
    "            tp_st = 0\n",
    "            fp_st = 0\n",
    "            fn_st = 0\n",
    "            \n",
    "            last_con = con\n",
    "    \n",
    "    return bins_snr, hist_precision, hist_recall, hist_err_precision, hist_err_recall"
   ]
  },
  {
   "cell_type": "markdown",
   "metadata": {},
   "source": [
    "#### plot24_S10"
   ]
  },
  {
   "cell_type": "code",
   "execution_count": 3,
   "metadata": {},
   "outputs": [],
   "source": [
    "def plot24_S10(path_to_stat_1, model, vthreshold):  \n",
    "    \n",
    "    stat_data = pd.read_csv(f\"{path_to_stat_1}\")\n",
    "    \n",
    "    #flux list\n",
    "    \n",
    "    #TP plus FN\n",
    "    condition_1 = (((stat_data[\"stat_code\"] == 0) | (stat_data[\"stat_code\"] == 2)))\n",
    "    #TP\n",
    "    condition_2 = ((stat_data[\"stat_code\"] == 0))\n",
    "    \n",
    "    #TP plus FN\n",
    "    #condition_1 = (((stat_data[\"stat_code\"] == 0) | (stat_data[\"stat_code\"] == 2)))\n",
    "    #TP plus FP\n",
    "    condition_3 = ((stat_data[\"stat_code\"] == 0) | (stat_data[\"stat_code\"] == 1))\n",
    "    \n",
    "    tpfn_flux = stat_data.loc[condition_1, \"test_flux_1000\"]\n",
    "    tp_flux   = stat_data.loc[condition_2, \"test_flux_1000\"]\n",
    "    tpfp_flux = stat_data.loc[condition_3, \"test_flux_1000\"]\n",
    "    \n",
    "    #GLL list\n",
    "    gll_flux = fermi_flux1000_list\n",
    "    \n",
    "    #bins are defined by hand\n",
    "    bins=np.logspace(np.log10(1e-12),np.log10(1e-7), 20)\n",
    "    \n",
    "    ntpfn = tpfn_flux.shape[0]\n",
    "    ntp   = tp_flux.shape[0]\n",
    "    ntpfp = tpfp_flux.shape[0]\n",
    "        \n",
    "    ngll = gll_flux.shape[0]\n",
    "    \n",
    "    bins_med = []\n",
    "    for con in range(len(bins)-1):\n",
    "        bins_med.append(1.15*bins[con])\n",
    "        \n",
    "    #histograms\n",
    "    return_values_tpfn, _  = np.histogram(tpfn_flux, bins=bins)   \n",
    "    return_values_tp, _    = np.histogram(tp_flux, bins=bins)\n",
    "    return_values_tpfp, _    = np.histogram(tpfp_flux, bins=bins)\n",
    "    \n",
    "    return_values_gll, _   = np.histogram(gll_flux, bins=bins)   \n",
    "        \n",
    "    fig, ax = plt.subplots(1, figsize=(5, 5))\n",
    "\n",
    "    ax.set_xscale('log')\n",
    "    ax.set_yscale('log')\n",
    "\n",
    "    #scatter plots from histograms   \n",
    "    \n",
    "    ax.hist(gll_flux, bins = bins, alpha=0.5, label=f\"gll-psc-v23 ({ngll} srcs)\", color=\"grey\")\n",
    "    \n",
    "    ax.scatter(bins_med, return_values_tpfn, c='r', alpha=1.0, marker='o', \\\n",
    "               label=f\"F0-B1 ({ntpfn} true srcs)\")\n",
    "    \n",
    "    ax.scatter(bins_med, return_values_tpfp, c='black', alpha=1.0, marker='o', \\\n",
    "               label=f\"{model} ({ntpfp} TP+FP srcs)\")\n",
    "    \n",
    "    ax.scatter(bins_med, return_values_tp, c='darkblue', alpha=1.0, marker='o', \\\n",
    "               label=f\"{model} ({ntp} TP srcs)\")\n",
    "    \n",
    "    #ax.scatter(bins_med, return_values_gll, c='gray', alpha=0.5, marker='o', \\\n",
    "    #           label=f\"gll-psc-v23 ({ngll} srcs)\")\n",
    "    \n",
    "    #fancy stuff\n",
    "    ax.legend(loc='upper right', fontsize='medium')\n",
    "    \n",
    "    ax.set_ylim(0.5, 4e4)\n",
    "    ax.set_xlim(1e-12, 2e-7)\n",
    "    ax.set_xticks([1e-12, 1e-11, 1e-10, 1e-9, 1e-8, 1e-7])\n",
    "    \n",
    "    ax.tick_params(labelcolor='black', labelsize='large', width=3)\n",
    "\n",
    "    ax.set_ylabel(\"Source number counts\", fontsize=14)\n",
    "    ax.set_xlabel(r\"$S_1$ [photons cm$^{-2}$ s$^{-1}$]\", fontsize=14)\n",
    "    \n",
    "    ax.axvline(vthreshold[0], lw=0.8, color=\"blue\")\n",
    "    ax.axvline(vthreshold[1], lw=0.8, color=\"black\", ls=\"--\")\n",
    "\n",
    "    plt.show()\n",
    "    \n",
    "    return 0"
   ]
  },
  {
   "cell_type": "code",
   "execution_count": 4,
   "metadata": {},
   "outputs": [],
   "source": [
    "def hist_S10(path_to_stat, lat_th, stat_th, verbose=False):\n",
    "    stat_data  = pd.read_csv(f\"{path_to_stat}\")\n",
    "    \n",
    "    condition_tp = ((stat_data[\"stat_code\"] == 0) & (abs(stat_data[\"test_lat\"]) > lat_th))\n",
    "    condition_fp = ((stat_data[\"stat_code\"] == 1) & (abs(stat_data[\"test_lat\"]) > lat_th))\n",
    "    condition_fn = ((stat_data[\"stat_code\"] == 2) & (abs(stat_data[\"test_lat\"]) > lat_th))\n",
    "    \n",
    "    stat_data_tp_flux = np.array(stat_data.loc[condition_tp, \"test_flux_10000\"])\n",
    "    stat_data_fp_flux = np.array(stat_data.loc[condition_fp, \"test_flux_10000\"])\n",
    "    stat_data_fn_flux = np.array(stat_data.loc[condition_fn, \"test_flux_10000\"])\n",
    "    \n",
    "    stat_data_tp_flux = np.abs(stat_data_tp_flux)\n",
    "    stat_data_fp_flux = np.abs(stat_data_fp_flux)\n",
    "    stat_data_fn_flux = np.abs(stat_data_fn_flux)\n",
    "    \n",
    "    #default histograms \n",
    "    bins = np.logspace(np.log10(1e-14),np.log10(1e-9), 24)\n",
    "          \n",
    "    ht_tp_flux, _ = np.histogram(stat_data_tp_flux, bins=bins)\n",
    "    ht_fp_flux, _ = np.histogram(stat_data_fp_flux, bins=bins)\n",
    "    ht_fn_flux, _ = np.histogram(stat_data_fn_flux, bins=bins)\n",
    "    \n",
    "    #histograms with stable metrics results\n",
    "    bins_flux, ht_pre_flux, ht_rec_flux, ht_err_pre, ht_err_rec = stable_hist_th(bins, ht_tp_flux, ht_fp_flux, ht_fn_flux, stat_th, verbose) \n",
    "\n",
    "    return bins_flux, ht_pre_flux, ht_rec_flux, ht_err_pre, ht_err_rec\n",
    "    \n",
    "\n",
    "def plot_metrics_flux_S10_latabove(path_to_stat, legend_loc, legend, lat_th, stat_th, vthreshold):\n",
    "        \n",
    "    #histograms with stable metrics results\n",
    "    bins_flux_1, hist_precision_flux_1, hist_recall_flux_1, ht_err_pre_1, ht_err_rec_1 = hist_S10(path_to_stat[0], lat_th, stat_th, False) \n",
    "        \n",
    "    #Recall\n",
    "    fig, ax = plt.subplots(1, figsize=(5, 5))\n",
    "    \n",
    "    ax.scatter(bins_flux_1, hist_recall_flux_1, label=f\"{legend[0]}\", color=\"red\")\n",
    "    ax.plot(bins_flux_1, hist_recall_flux_1, '-o', color=\"red\")\n",
    "    ax.errorbar(bins_flux_1, hist_recall_flux_1, ht_err_rec_1, color=\"red\", ls='none')\n",
    "    \n",
    "    #ax.scatter(bins_flux_2, hist_recall_flux_2, label=f\"{legend[1]}\", color=\"blue\")\n",
    "    #ax.plot(bins_flux_2, hist_recall_flux_2, '-o', color=\"blue\")\n",
    "    \n",
    "    ax.legend(loc='lower right', fontsize='large')\n",
    "    \n",
    "    ax.set_ylim(0.2, 1.1)\n",
    "    \n",
    "    ax.set_xscale('log')\n",
    "    ax.set_xlim(1e-12, 1e-9)\n",
    "    ax.set_xticks([1e-12, 1e-12, 1e-11, 1e-10, 1e-9])\n",
    "    \n",
    "    ax.tick_params(labelcolor='black', labelsize='large', width=3)\n",
    "    ax.set_ylabel(\"Completness\", fontsize=14)\n",
    "    ax.set_xlabel(r\"$S_{10}$ [photons cm$^{-2}$ s$^{-1}$]\", fontsize=14)\n",
    "    #plt.grid(True)\n",
    "    ax.axhline(0.9, lw=0.8)\n",
    "    ax.axvline(vthreshold[1], lw=0.8)\n",
    "    ax.axvline(4e-11, color=\"black\", lw=0.8, ls=\"--\")\n",
    "    ax.text(1.5e-10, 0.8, f\"|b| > {lat_th}°\", fontsize=14)\n",
    "    ax.text(4.2e-11, 0.4, f\"4FGL flux threshold\\nfor efficiency\"+r\"$\\rightarrow$ 1\", fontsize=12)\n",
    "    plt.show()   \n",
    "    \n",
    "    return 0"
   ]
  },
  {
   "cell_type": "code",
   "execution_count": 6,
   "metadata": {},
   "outputs": [],
   "source": [
    "def hist_S1_latabove(path_to_stat, lat_th, stat_th, verbose=False):\n",
    "    ###########################################################################################\n",
    "    #Read files\n",
    "    ##########################################################################################\n",
    "       \n",
    "    stat_data = pd.read_csv(f\"{path_to_stat}\")\n",
    "           \n",
    "    ############################################################################################    \n",
    "        \n",
    "    condition_tp = ((stat_data[\"stat_code\"] == 0) & (abs(stat_data[\"test_lat\"]) > lat_th))\n",
    "    condition_fp = ((stat_data[\"stat_code\"] == 1) & (abs(stat_data[\"test_lat\"]) > lat_th))\n",
    "    condition_fn = ((stat_data[\"stat_code\"] == 2) & (abs(stat_data[\"test_lat\"]) > lat_th))\n",
    "    \n",
    "    ############################################################################################\n",
    "    \n",
    "    stat_data_tp_flux = np.array(stat_data.loc[condition_tp, \"test_flux_1000\"])\n",
    "    stat_data_fp_flux = np.array(stat_data.loc[condition_fp, \"test_flux_1000\"])\n",
    "    stat_data_fn_flux = np.array(stat_data.loc[condition_fn, \"test_flux_1000\"])\n",
    "    \n",
    "    #############################################################################################\n",
    "    \n",
    "    stat_data_tp_flux = np.abs(stat_data_tp_flux)\n",
    "    stat_data_fp_flux = np.abs(stat_data_fp_flux)\n",
    "    stat_data_fn_flux = np.abs(stat_data_fn_flux)\n",
    "    \n",
    "    #############################################################################################\n",
    "    \n",
    "    bins=np.logspace(np.log10(1e-12),np.log10(1e-7), 20)\n",
    "    \n",
    "    ht_tp_flux, _ = np.histogram(stat_data_tp_flux, bins=bins)\n",
    "    ht_fp_flux, _ = np.histogram(stat_data_fp_flux, bins=bins)\n",
    "    ht_fn_flux, _ = np.histogram(stat_data_fn_flux, bins=bins)\n",
    "        \n",
    "    #histograms with stable metrics results\n",
    "    \n",
    "    #print(\"F0_B4, precision, recall\")\n",
    "    bins_flux, ht_pre_flux, ht_rec_flux, ht_err_pre, ht_err_rec = stable_hist_th(bins, ht_tp_flux, ht_fp_flux, ht_fn_flux, stat_th, verbose)\n",
    "\n",
    "    return bins_flux, ht_pre_flux, ht_rec_flux, ht_err_pre, ht_err_rec\n",
    "\n",
    "\n",
    "def plot_metrics_flux_S1_latabove(path_to_stat, legend_loc, legend, lat_th, stat_th, vthreshold):\n",
    "    \n",
    "    bins_flux_1, hist_precision_flux_1, hist_recall_flux_1, ht_err_pre_1, ht_err_rec_1 = hist_S1_latabove(path_to_stat[0], lat_th, stat_th, True)\n",
    "        \n",
    "    ##########################################################################################\n",
    "    #smearing by hand. always trying to be conservative\n",
    "    ##########################################################################################\n",
    "    \n",
    "    ##########################################################################################\n",
    "    \n",
    "    #Precision\n",
    "    fig, ax = plt.subplots(1, figsize=(5, 5))\n",
    "    \n",
    "    ax.scatter(bins_flux_1, hist_precision_flux_1, color=\"red\")\n",
    "    ax.plot(bins_flux_1, hist_precision_flux_1, '-o', label=legend[0], color=\"red\")\n",
    "    ax.errorbar(bins_flux_1, hist_precision_flux_1, ht_err_pre_1, color=\"red\", ls='none')  \n",
    "    \n",
    "    ax.legend(loc='lower right', fontsize='large')\n",
    "    \n",
    "    ax.set_ylim(0.0, 1.1)\n",
    "    \n",
    "    ax.set_xscale('log')\n",
    "    ax.set_xlim(1e-12, 1e-8)\n",
    "    ax.set_xticks([1e-12, 1e-11, 1e-10, 1e-9, 1e-8])\n",
    "\n",
    "    ax.tick_params(labelcolor='black', labelsize='large', width=3)\n",
    "    ax.set_ylabel(\"Purity\", fontsize=14)\n",
    "    ax.set_xlabel(r\"$S_1$ [photons cm$^{-2}$ s$^{-1}$]\", fontsize=14)\n",
    "    #plt.grid(True)\n",
    "    ax.axhline(0.9, lw=0.8)\n",
    "    ax.axvline(vthreshold[0], lw=0.8)\n",
    "    ax.text(2e-12, 1.0, f\"|b| > {lat_th}°\", fontsize=14)\n",
    "    \n",
    "    plt.show() \n",
    "    ####################################################################################3\n",
    "    \n",
    "    #Recall\n",
    "    fig, ax = plt.subplots(1, figsize=(5, 5))\n",
    "    \n",
    "    ax.scatter(bins_flux_1, hist_recall_flux_1, color=\"red\")\n",
    "    ax.plot(bins_flux_1, hist_recall_flux_1, '-o', label=legend[0], color=\"red\")\n",
    "    ax.errorbar(bins_flux_1, hist_recall_flux_1, ht_err_rec_1, color=\"red\", ls='none') \n",
    "    \n",
    "    ax.legend(loc='lower right', fontsize='large')\n",
    "    \n",
    "    ax.set_ylim(0.0, 1.1)\n",
    "    \n",
    "    ax.set_xscale('log')\n",
    "    ax.set_xlim(1e-12, 1e-8)\n",
    "    ax.set_xticks([1e-12, 1e-11, 1e-10, 1e-9, 1e-8])\n",
    "    \n",
    "    ax.tick_params(labelcolor='black', labelsize='large', width=3)\n",
    "    ax.set_ylabel(\"Completness\", fontsize=14)\n",
    "    ax.set_xlabel(r\"$S_1$ [photons cm$^{-2}$ s$^{-1}$]\", fontsize=14)\n",
    "    #plt.grid(True)\n",
    "    ax.axhline(0.9, lw=0.8)\n",
    "    ax.axvline(vthreshold[1], lw=0.8)\n",
    "    ax.text(2e-12, 1.0, f\"|b| > {lat_th}°\", fontsize=14)\n",
    "    plt.show()   \n",
    "    \n",
    "    return 0"
   ]
  },
  {
   "cell_type": "code",
   "execution_count": 8,
   "metadata": {},
   "outputs": [],
   "source": [
    "def hist_S1_latbelow(path_to_stat, lat_th, stat_th, verbose):\n",
    "    \n",
    "    ########################################\n",
    "    stat_data  = pd.read_csv(f\"{path_to_stat}\")\n",
    "    \n",
    "    ########################################\n",
    "    condition_tp = ((stat_data[\"stat_code\"] == 0) & (abs(stat_data[\"test_lat\"]) < lat_th))\n",
    "    condition_fp = ((stat_data[\"stat_code\"] == 1) & (abs(stat_data[\"test_lat\"]) < lat_th))\n",
    "    condition_fn = ((stat_data[\"stat_code\"] == 2) & (abs(stat_data[\"test_lat\"]) < lat_th))\n",
    "    \n",
    "    ########################################\n",
    "    stat_data_tp_flux = np.array(stat_data.loc[condition_tp, \"test_flux_1000\"])\n",
    "    stat_data_fp_flux = np.array(stat_data.loc[condition_fp, \"test_flux_1000\"])\n",
    "    stat_data_fn_flux = np.array(stat_data.loc[condition_fn, \"test_flux_1000\"])\n",
    "    \n",
    "    ###########################################################\n",
    "    stat_data_tp_flux = np.abs(stat_data_tp_flux)\n",
    "    stat_data_fp_flux = np.abs(stat_data_fp_flux)\n",
    "    stat_data_fn_flux = np.abs(stat_data_fn_flux)\n",
    "    \n",
    "    ###########################################################\n",
    "    bins=np.logspace(np.log10(1e-12),np.log10(1e-7), 20)\n",
    "      \n",
    "    ht_tp_flux, _ = np.histogram(stat_data_tp_flux, bins=bins)\n",
    "    ht_fp_flux, _ = np.histogram(stat_data_fp_flux, bins=bins)\n",
    "    ht_fn_flux, _ = np.histogram(stat_data_fn_flux, bins=bins)\n",
    "    \n",
    "    #####################################################################\n",
    "    \n",
    "    #histograms with stable metrics results\n",
    "    bins_flux, ht_pre_flux_1, ht_rec_flux, ht_err_pre, ht_err_rec = stable_hist_th(bins, ht_tp_flux, ht_fp_flux, ht_fn_flux, stat_th, verbose) \n",
    "\n",
    "    return bins_flux, ht_pre_flux_1, ht_rec_flux, ht_err_pre, ht_err_rec\n",
    "\n",
    "def plot_metrics_flux_S1_latbelow(path_to_stat, legend_loc, legend, lat_th, stat_th, vthreshold):\n",
    "       \n",
    "    #histograms with stable metrics results\n",
    "    bins_flux_1, hist_precision_flux_1, hist_recall_flux_1, ht_err_pre_1, ht_err_rec_1 = hist_S1_latbelow(path_to_stat[0], lat_th, stat_th, False)\n",
    "    \n",
    "    #Precision\n",
    "    fig, ax = plt.subplots(1, figsize=(5, 5))\n",
    "    \n",
    "    ax.scatter(bins_flux_1, hist_precision_flux_1, color=\"red\")\n",
    "    ax.plot(bins_flux_1, hist_precision_flux_1, '-o', label=legend[0], color=\"red\") \n",
    "    ax.errorbar(bins_flux_1, hist_precision_flux_1, ht_err_pre_1, color=\"red\", ls='none') \n",
    "        \n",
    "    ax.legend(loc='lower right', fontsize='large')\n",
    "    \n",
    "    ax.set_ylim(0.0, 1.1)\n",
    "    \n",
    "    ax.set_xscale('log')\n",
    "    ax.set_xlim(1e-12, 1e-8)\n",
    "    ax.set_xticks([1e-12, 1e-11, 1e-10, 1e-9, 1e-8])\n",
    "\n",
    "    ax.tick_params(labelcolor='black', labelsize='large', width=3)\n",
    "    ax.set_ylabel(\"Purity\", fontsize=14)\n",
    "    ax.set_xlabel(r\"$S_1$ [photons cm$^{-2}$ s$^{-1}$]\", fontsize=14)\n",
    "    #plt.grid(True)\n",
    "    ax.axhline(0.9, lw=0.8)\n",
    "    ax.axvline(vthreshold[0], lw=0.8)\n",
    "    ax.text(2e-12, 1.0, f\"|b| < {lat_th}°\", fontsize=14)\n",
    "    plt.show() \n",
    "    \n",
    "    #Recall\n",
    "    fig, ax = plt.subplots(1, figsize=(5, 5))\n",
    "    \n",
    "    ax.scatter(bins_flux_1, hist_recall_flux_1, color=\"red\")\n",
    "    ax.plot(bins_flux_1, hist_recall_flux_1, '-o', label=legend[0], color=\"red\")\n",
    "    ax.errorbar(bins_flux_1, hist_recall_flux_1, ht_err_rec_1, color=\"red\", ls='none')\n",
    "    \n",
    "    ax.legend(loc='lower right', fontsize='large')\n",
    "    \n",
    "    ax.set_ylim(0.0, 1.1)\n",
    "    \n",
    "    ax.set_xscale('log')\n",
    "    ax.set_xlim(1e-12, 1e-8)\n",
    "    ax.set_xticks([1e-12, 1e-11, 1e-10, 1e-9, 1e-8])\n",
    "    \n",
    "    ax.tick_params(labelcolor='black', labelsize='large', width=3)\n",
    "    ax.set_ylabel(\"Completness\", fontsize=14)\n",
    "    ax.set_xlabel(r\"$S_1$ [photons cm$^{-2}$ s$^{-1}$]\", fontsize=14)\n",
    "    #plt.grid(True)\n",
    "    ax.axhline(0.9, lw=0.8)\n",
    "    ax.axvline(vthreshold[1], lw=0.8)\n",
    "    ax.text(2e-12, 1.0, f\"|b| < {lat_th}°\", fontsize=14)\n",
    "    plt.show()   \n",
    "    \n",
    "    return 0"
   ]
  },
  {
   "cell_type": "markdown",
   "metadata": {},
   "source": [
    "#### SNR all"
   ]
  },
  {
   "cell_type": "code",
   "execution_count": 9,
   "metadata": {},
   "outputs": [],
   "source": [
    "def hist_snr_all(path_to_stat, stat_th, verbose):\n",
    "    \n",
    "    ##############################################################################\n",
    "    #UNEK stat data\n",
    "    ##############################################################################\n",
    "    \n",
    "    stat_data  = pd.read_csv(f\"{path_to_stat}\")\n",
    "        \n",
    "    condition_tp = ((stat_data[\"stat_code\"] == 0))\n",
    "    condition_fp = ((stat_data[\"stat_code\"] == 1))\n",
    "    condition_fn = ((stat_data[\"stat_code\"] == 2))\n",
    "    \n",
    "    stat_data_tp = np.array(stat_data.loc[condition_tp, \"snr_center_pred\"])\n",
    "    stat_data_fp = np.array(stat_data.loc[condition_fp, \"snr_center_pred\"])\n",
    "    stat_data_fn = np.array(stat_data.loc[condition_fn, \"snr_center_pred\"])\n",
    "    \n",
    "    stat_data_tp = np.abs(stat_data_tp)\n",
    "    stat_data_fp = np.abs(stat_data_fp)\n",
    "    stat_data_fn = np.abs(stat_data_fn)\n",
    "    \n",
    "    ############################################################################\n",
    "    bins = np.logspace(np.log10(1e-2),np.log10(100), 20)\n",
    "    ############################################################################\n",
    "          \n",
    "    ############################################################################\n",
    "    #UNEK histograms\n",
    "    ############################################################################\n",
    "        \n",
    "    ht_tp, _ = np.histogram(stat_data_tp, bins=bins)\n",
    "    ht_fp, _ = np.histogram(stat_data_fp, bins=bins)\n",
    "    ht_fn, _ = np.histogram(stat_data_fn, bins=bins)\n",
    "    \n",
    "    #histograms with stable metrics results\n",
    "    bins_snr, ht_pre, ht_rec, ht_err_pre, ht_err_rec = stable_hist_th(bins, ht_tp, ht_fp, ht_fn, stat_th, verbose) \n",
    "    \n",
    "    return bins_snr, ht_pre, ht_rec, ht_err_pre, ht_err_rec\n",
    "\n",
    "def plot_metrics_snr_all(path_to_stat, legend_loc, legend, stat_th, vthreshold):\n",
    "    \n",
    "    bins_snr_1, hist_precision_1, hist_recall_1, ht_err_pre_1, ht_err_rec_1 = hist_snr_all(path_to_stat[0], stat_th, True) \n",
    "\n",
    "    ###########################################################################\n",
    "    #Plots\n",
    "    ###########################################################################\n",
    "    \n",
    "    #Precision\n",
    "    fig, ax = plt.subplots(1, figsize=(5, 5))\n",
    "    \n",
    "    #unek\n",
    "    ax.scatter(bins_snr_1, hist_precision_1, color=\"red\")\n",
    "    ax.plot(bins_snr_1, hist_precision_1, '-o', label=legend[0], color=\"red\")\n",
    "    ax.errorbar(bins_snr_1, hist_precision_1, ht_err_pre_1, color=\"red\")\n",
    "      \n",
    "    ax.legend(loc=legend_loc, fontsize='large')\n",
    "    \n",
    "    ax.set_ylim(0.0, 1.1)\n",
    "    \n",
    "    ax.set_xscale('log')\n",
    "    ax.set_xlim(3e-1, 70)\n",
    "    ax.set_xticks([1, 10, 70])\n",
    "\n",
    "    ax.tick_params(labelcolor='black', labelsize='large', width=3)\n",
    "    ax.set_ylabel(\"Purity\", fontsize=14)\n",
    "    ax.set_xlabel(r\"SNR$_c$\", fontsize=14)\n",
    "    #plt.grid(True)\n",
    "    ax.axhline(0.9, lw=0.8)\n",
    "    ax.axvline(vthreshold[0], lw=0.8)\n",
    "    #ax.text(0.2, 0.6, f\"|b| > {lat_th}°\", fontsize=14)\n",
    "    plt.show() \n",
    "    \n",
    "    #Recall\n",
    "    fig, ax = plt.subplots(1, figsize=(5, 5))\n",
    "    \n",
    "    #unek\n",
    "    ax.scatter(bins_snr_1, hist_recall_1, color=\"red\")\n",
    "    ax.plot(bins_snr_1, hist_recall_1, '-o', label=legend[0], color=\"red\")\n",
    "    ax.errorbar(bins_snr_1, hist_recall_1, ht_err_rec_1, color=\"red\")\n",
    "    \n",
    "    ax.legend(loc=legend_loc, fontsize='large')\n",
    "    \n",
    "    ax.set_ylim(0.0, 1.1)\n",
    "    \n",
    "    ax.set_xscale('log')\n",
    "    #ax.set_xlim(1e-2, 10)\n",
    "    #ax.set_xticks([1e-2, 1e-1, 1, 10])\n",
    "    ax.set_xlim(3e-1,70)\n",
    "    ax.set_xticks([1, 10, 70])\n",
    "    \n",
    "    ax.tick_params(labelcolor='black', labelsize='large', width=3)\n",
    "    ax.set_ylabel(\"Completness\", fontsize=14)\n",
    "    ax.set_xlabel(r\"SNR$_c$\", fontsize=14)\n",
    "    #plt.grid(True)\n",
    "    ax.axhline(0.9, lw=0.8)\n",
    "    ax.axvline(vthreshold[1], lw=0.8)\n",
    "    #ax.text(0.2, 1.0, f\"|b| > {lat_th}°\", fontsize=14)\n",
    "    plt.show()   \n",
    "\n",
    "    return 0"
   ]
  },
  {
   "cell_type": "code",
   "execution_count": 10,
   "metadata": {},
   "outputs": [],
   "source": [
    "def hist_sbr_all(path_to_stat, stat_th, verbose):\n",
    "     \n",
    "    stat_data  = pd.read_csv(f\"{path_to_stat}\")\n",
    "        \n",
    "    condition_tp = ((stat_data[\"stat_code\"] == 0))\n",
    "    condition_fp = ((stat_data[\"stat_code\"] == 1))\n",
    "    condition_fn = ((stat_data[\"stat_code\"] == 2))\n",
    "    \n",
    "    stat_data_tp = np.array(stat_data.loc[condition_tp, \"sbr_center_pred\"])\n",
    "    stat_data_fp = np.array(stat_data.loc[condition_fp, \"sbr_center_pred\"])\n",
    "    stat_data_fn = np.array(stat_data.loc[condition_fn, \"sbr_center_pred\"])\n",
    "    \n",
    "    stat_data_tp = np.abs(stat_data_tp)\n",
    "    stat_data_fp = np.abs(stat_data_fp)\n",
    "    stat_data_fn = np.abs(stat_data_fn)\n",
    "     \n",
    "    ############################################################################\n",
    "    bins = np.logspace(np.log10(1e-2),np.log10(100), 20)\n",
    "    ############################################################################\n",
    "        \n",
    "    ht_tp, _ = np.histogram(stat_data_tp, bins=bins)\n",
    "    ht_fp, _ = np.histogram(stat_data_fp, bins=bins)\n",
    "    ht_fn, _ = np.histogram(stat_data_fn, bins=bins)\n",
    "    \n",
    "    #histograms with stable metrics results\n",
    "    bins_snr, ht_pre, ht_rec, ht_err_pre, ht_err_rec = stable_hist_th(bins, ht_tp, ht_fp, ht_fn, stat_th, verbose) \n",
    "    \n",
    "    return bins_snr, ht_pre, ht_rec, ht_err_pre, ht_err_rec\n",
    "\n",
    "def plot_metrics_sbr_all(path_to_stat, legend_loc, legend, stat_th, vthreshold):\n",
    "    \n",
    "    bins_sbr_1, hist_precision_1, hist_recall_1, ht_err_pre_1, ht_err_rec_1 = hist_sbr_all(path_to_stat[0], stat_th, True)\n",
    "    \n",
    "    ###########################################################################\n",
    "    #Plots\n",
    "    ###########################################################################\n",
    "    \n",
    "    #Precision\n",
    "    fig, ax = plt.subplots(1, figsize=(5, 5))\n",
    "    \n",
    "    #unek\n",
    "    ax.scatter(bins_sbr_1, hist_precision_1, color=\"red\")\n",
    "    ax.plot(bins_sbr_1, hist_precision_1, '-o', label=legend[0], color=\"red\")\n",
    "    ax.errorbar(bins_sbr_1, hist_precision_1, ht_err_pre_1, color=\"red\")\n",
    "           \n",
    "    ax.legend(loc=legend_loc, fontsize='large')\n",
    "    \n",
    "    ax.set_ylim(0.0, 1.1)\n",
    "    \n",
    "    ax.set_xscale('log')\n",
    "    ax.set_xlim(2e-2, 50)\n",
    "    ax.set_xticks([0.1, 1, 10])\n",
    "\n",
    "    ax.tick_params(labelcolor='black', labelsize='large', width=3)\n",
    "    ax.set_ylabel(\"Purity\", fontsize=14)\n",
    "    ax.set_xlabel(r\"SBR$_c$\", fontsize=14)\n",
    "    #plt.grid(True)\n",
    "    ax.axhline(0.9, lw=0.8)\n",
    "    ax.axvline(vthreshold[0], lw=0.8)\n",
    "    #ax.text(0.2, 0.6, f\"|b| > {lat_th}°\", fontsize=14)\n",
    "    plt.show() \n",
    "    \n",
    "    #Recall\n",
    "    fig, ax = plt.subplots(1, figsize=(5, 5))\n",
    "    \n",
    "    #unek\n",
    "    ax.scatter(bins_sbr_1, hist_recall_1, color=\"red\")\n",
    "    ax.plot(bins_sbr_1, hist_recall_1, '-o', label=legend[0], color=\"red\")\n",
    "    ax.errorbar(bins_sbr_1, hist_recall_1, ht_err_rec_1, color=\"red\")\n",
    "        \n",
    "    ax.legend(loc=legend_loc, fontsize='large')\n",
    "    \n",
    "    ax.set_ylim(0.0, 1.1)\n",
    "    \n",
    "    ax.set_xscale('log')\n",
    "    #ax.set_xlim(1e-2, 10)\n",
    "    #ax.set_xticks([1e-2, 1e-1, 1, 10])\n",
    "    ax.set_xlim(2e-2,50)\n",
    "    ax.set_xticks([0.1, 1, 10])\n",
    "    \n",
    "    ax.tick_params(labelcolor='black', labelsize='large', width=3)\n",
    "    ax.set_ylabel(\"Completness\", fontsize=14)\n",
    "    ax.set_xlabel(r\"SBR$_c$\", fontsize=14)\n",
    "    #plt.grid(True)\n",
    "    ax.axhline(0.9, lw=0.8)\n",
    "    ax.axvline(vthreshold[1], lw=0.8)\n",
    "    #ax.text(0.2, 1.0, f\"|b| > {lat_th}°\", fontsize=14)\n",
    "    plt.show()   \n",
    "\n",
    "\n",
    "    return 0"
   ]
  },
  {
   "cell_type": "markdown",
   "metadata": {},
   "source": [
    "#### 4FGL files"
   ]
  },
  {
   "cell_type": "code",
   "execution_count": 12,
   "metadata": {},
   "outputs": [],
   "source": [
    "path_to_data = \"/home/bapanes/Research-Now/Gamma-Ray-Point-Source-Detector\""
   ]
  },
  {
   "cell_type": "code",
   "execution_count": 13,
   "metadata": {},
   "outputs": [
    {
     "name": "stdout",
     "output_type": "stream",
     "text": [
      "PSRs and AGNsin gll_psc_v23:  3762\n"
     ]
    }
   ],
   "source": [
    "PSR_df = pd.read_csv(f\"{path_to_data}/data-raw/PSR_PLEC_FS.csv\", sep=\",\")\n",
    "AGN_df = pd.read_csv(f\"{path_to_data}/data-raw/AGN_LP_FS.csv\", sep=\",\")\n",
    "fermi_flux1000_list = []\n",
    "fermi_flux10000_list = []\n",
    "\n",
    "for con in range(len(PSR_df)):\n",
    "    fermi_flux1000_list.append(PSR_df[\"PLEC_F1000\"].iloc[con])\n",
    "    fermi_flux10000_list.append(PSR_df[\"PLEC_F10000\"].iloc[con])\n",
    "    \n",
    "for con in range(len(AGN_df)):\n",
    "    fermi_flux1000_list.append(AGN_df[\"LP_F1000\"].iloc[con])\n",
    "    fermi_flux10000_list.append(AGN_df[\"LP_F10000\"].iloc[con])\n",
    "    \n",
    "fermi_flux1000_list = np.array(fermi_flux1000_list)\n",
    "fermi_flux10000_list = np.array(fermi_flux10000_list)\n",
    "\n",
    "print(\"PSRs and AGNsin gll_psc_v23: \", len(fermi_flux1000_list))"
   ]
  },
  {
   "cell_type": "markdown",
   "metadata": {},
   "source": [
    "#### The plot in the paper uses the file with overlapping removed"
   ]
  },
  {
   "cell_type": "code",
   "execution_count": 14,
   "metadata": {},
   "outputs": [
    {
     "data": {
      "image/png": "[encoded data removed]",
      "text/plain": [
       "<Figure size 360x360 with 1 Axes>"
      ]
     },
     "metadata": {
      "needs_background": "light"
     },
     "output_type": "display_data"
    },
    {
     "data": {
      "text/plain": [
       "0"
      ]
     },
     "execution_count": 14,
     "metadata": {},
     "output_type": "execute_result"
    }
   ],
   "source": [
    "path_to_stat_after_ps_basis = f\"{path_to_data}/outputs-csv/unek_evaluation_test.csv\"\n",
    "plot24_S10(path_to_stat_after_ps_basis, \"UNEK-F0-B1-solid\", [4.7e-10, 5.2e-10])"
   ]
  },
  {
   "cell_type": "markdown",
   "metadata": {},
   "source": [
    "#### Define the file paths"
   ]
  },
  {
   "cell_type": "code",
   "execution_count": 15,
   "metadata": {},
   "outputs": [],
   "source": [
    "path_to_unek_stat_f0_b1 = f\"{path_to_data}/outputs-csv/unek_evaluation_test.csv\""
   ]
  },
  {
   "cell_type": "markdown",
   "metadata": {},
   "source": [
    "#### F10000 or S10 plots"
   ]
  },
  {
   "cell_type": "code",
   "execution_count": 16,
   "metadata": {},
   "outputs": [
    {
     "data": {
      "image/png": "[encoded data removed]",
      "text/plain": [
       "<Figure size 360x360 with 1 Axes>"
      ]
     },
     "metadata": {
      "needs_background": "light"
     },
     "output_type": "display_data"
    },
    {
     "data": {
      "text/plain": [
       "0"
      ]
     },
     "execution_count": 16,
     "metadata": {},
     "output_type": "execute_result"
    }
   ],
   "source": [
    "legend_loc = \"best\"\n",
    "\n",
    "plot_metrics_flux_S10_latabove([path_to_unek_stat_f0_b1], legend_loc, \n",
    "                               [f\"UNEK-F0-B1\"], 20, 0,\n",
    "                               vthreshold=[_, 3e-11])"
   ]
  },
  {
   "cell_type": "markdown",
   "metadata": {},
   "source": [
    "#### F1000, lat > 20 deg\n",
    "\n",
    "These are the plots with the same background B1 and different mock point sources F0, F1, F2, etc"
   ]
  },
  {
   "cell_type": "code",
   "execution_count": 17,
   "metadata": {},
   "outputs": [
    {
     "name": "stdout",
     "output_type": "stream",
     "text": [
      "\n",
      "Histogram Info\n",
      "\n",
      "Bin, TP, FP, FN, Purity, Err_Pur, Completness, Err_Com\n",
      "1.00E-12, 0, 0, 0, 0.00, 0.00, 0.00, 0.00\n",
      "1.83E-12, 0, 0, 0, 0.00, 0.00, 0.00, 0.00\n",
      "3.36E-12, 0, 0, 4, 0.00, 0.00, 0.00, 0.00\n",
      "6.16E-12, 0, 0, 14, 0.00, 0.00, 0.00, 0.00\n",
      "1.13E-11, 0, 8, 54, 0.00, 0.00, 0.00, 0.00\n",
      "2.07E-11, 5, 44, 554, 0.10, 0.04, 0.01, 0.00\n",
      "3.79E-11, 23, 115, 1382, 0.17, 0.03, 0.02, 0.00\n",
      "6.95E-11, 161, 110, 1488, 0.59, 0.03, 0.10, 0.01\n",
      "1.27E-10, 792, 152, 1129, 0.84, 0.01, 0.41, 0.01\n",
      "2.34E-10, 1281, 101, 444, 0.93, 0.01, 0.74, 0.01\n",
      "4.28E-10, 1192, 65, 163, 0.95, 0.01, 0.88, 0.01\n",
      "7.85E-10, 653, 39, 51, 0.94, 0.01, 0.93, 0.01\n",
      "1.44E-09, 481, 20, 20, 0.96, 0.01, 0.96, 0.01\n",
      "2.64E-09, 208, 14, 7, 0.94, 0.02, 0.97, 0.01\n",
      "4.83E-09, 117, 11, 3, 0.91, 0.02, 0.97, 0.01\n",
      "8.86E-09, 34, 2, 1, 0.94, 0.04, 0.97, 0.03\n",
      "1.62E-08, 24, 6, 1, 0.80, 0.07, 0.96, 0.04\n",
      "2.98E-08, 15, 4, 0, 0.79, 0.09, 1.00, 0.00\n",
      "5.46E-08, 7, 0, 0, 1.00, 0.00, 1.00, 0.00\n"
     ]
    },
    {
     "data": {
      "image/png": "[encoded data removed]",
      "text/plain": [
       "<Figure size 360x360 with 1 Axes>"
      ]
     },
     "metadata": {
      "needs_background": "light"
     },
     "output_type": "display_data"
    },
    {
     "data": {
      "image/png": "[encoded data removed]",
      "text/plain": [
       "<Figure size 360x360 with 1 Axes>"
      ]
     },
     "metadata": {
      "needs_background": "light"
     },
     "output_type": "display_data"
    },
    {
     "data": {
      "text/plain": [
       "0"
      ]
     },
     "execution_count": 17,
     "metadata": {},
     "output_type": "execute_result"
    }
   ],
   "source": [
    "legend_loc = \"best\"\n",
    "\n",
    "plot_metrics_flux_S1_latabove([path_to_unek_stat_f0_b1], \n",
    "                              legend_loc, \n",
    "                              [f\"UNEK-F0-B1\"], \n",
    "                              0, 0,\n",
    "                              vthreshold=[1.6e-10, 4.5e-10])"
   ]
  },
  {
   "cell_type": "code",
   "execution_count": 18,
   "metadata": {},
   "outputs": [
    {
     "name": "stdout",
     "output_type": "stream",
     "text": [
      "\n",
      "Histogram Info\n",
      "\n",
      "Bin, TP, FP, FN, Purity, Err_Pur, Completness, Err_Com\n",
      "1.00E-12, 0, 0, 0, 0.00, 0.00, 0.00, 0.00\n",
      "1.83E-12, 0, 0, 0, 0.00, 0.00, 0.00, 0.00\n",
      "3.36E-12, 0, 0, 0, 0.00, 0.00, 0.00, 0.00\n",
      "6.16E-12, 0, 0, 6, 0.00, 0.00, 0.00, 0.00\n",
      "1.13E-11, 0, 3, 32, 0.00, 0.00, 0.00, 0.00\n",
      "2.07E-11, 5, 20, 361, 0.20, 0.08, 0.01, 0.01\n",
      "3.79E-11, 20, 61, 918, 0.25, 0.05, 0.02, 0.00\n",
      "6.95E-11, 145, 66, 915, 0.69, 0.03, 0.14, 0.01\n",
      "1.27E-10, 659, 72, 553, 0.90, 0.01, 0.54, 0.01\n",
      "2.34E-10, 931, 50, 123, 0.95, 0.01, 0.88, 0.01\n",
      "4.28E-10, 834, 36, 43, 0.96, 0.01, 0.95, 0.01\n",
      "7.85E-10, 410, 18, 14, 0.96, 0.01, 0.97, 0.01\n",
      "1.44E-09, 285, 10, 4, 0.97, 0.01, 0.99, 0.01\n",
      "2.64E-09, 120, 8, 1, 0.94, 0.02, 0.99, 0.01\n",
      "4.83E-09, 35, 2, 0, 0.95, 0.04, 1.00, 0.00\n",
      "8.86E-09, 6, 1, 1, 0.86, 0.13, 0.86, 0.13\n",
      "1.62E-08, 5, 3, 1, 0.62, 0.17, 0.83, 0.15\n",
      "2.98E-08, 4, 0, 0, 1.00, 0.00, 1.00, 0.00\n",
      "5.46E-08, 0, 0, 0, 0.00, 0.00, 0.00, 0.00\n"
     ]
    },
    {
     "data": {
      "image/png": "[encoded data removed]",
      "text/plain": [
       "<Figure size 360x360 with 1 Axes>"
      ]
     },
     "metadata": {
      "needs_background": "light"
     },
     "output_type": "display_data"
    },
    {
     "data": {
      "image/png": "[encoded data removed]",
      "text/plain": [
       "<Figure size 360x360 with 1 Axes>"
      ]
     },
     "metadata": {
      "needs_background": "light"
     },
     "output_type": "display_data"
    },
    {
     "data": {
      "text/plain": [
       "0"
      ]
     },
     "execution_count": 18,
     "metadata": {},
     "output_type": "execute_result"
    }
   ],
   "source": [
    "legend_loc = \"best\"\n",
    "\n",
    "plot_metrics_flux_S1_latabove([path_to_unek_stat_f0_b1], \n",
    "                              legend_loc, \n",
    "                              [f\"UNEK-F0-B1\"], \n",
    "                              20, 0,\n",
    "                              vthreshold=[1.6e-10, 2.5e-10])"
   ]
  },
  {
   "cell_type": "markdown",
   "metadata": {},
   "source": [
    "#### Notice that TP + FN is the same for UNEK and CNET because this number depends on the test set only"
   ]
  },
  {
   "cell_type": "markdown",
   "metadata": {},
   "source": [
    "#### F1000 (S1), lat < 20 deg\n",
    "\n",
    "These are the plots with the same mock catalog F0 and different background B1, B2, B3"
   ]
  },
  {
   "cell_type": "code",
   "execution_count": 20,
   "metadata": {},
   "outputs": [
    {
     "data": {
      "image/png": "[encoded data removed]",
      "text/plain": [
       "<Figure size 360x360 with 1 Axes>"
      ]
     },
     "metadata": {
      "needs_background": "light"
     },
     "output_type": "display_data"
    },
    {
     "data": {
      "image/png": "[encoded data removed]",
      "text/plain": [
       "<Figure size 360x360 with 1 Axes>"
      ]
     },
     "metadata": {
      "needs_background": "light"
     },
     "output_type": "display_data"
    },
    {
     "data": {
      "text/plain": [
       "0"
      ]
     },
     "execution_count": 20,
     "metadata": {},
     "output_type": "execute_result"
    }
   ],
   "source": [
    "legend_loc = \"best\"\n",
    "\n",
    "plot_metrics_flux_S1_latbelow([path_to_unek_stat_f0_b1], \n",
    "                              legend_loc, \n",
    "                              [f\"UNEK-F0-B1\"], \n",
    "                              20, 0,\n",
    "                              vthreshold=[4e-10, 1.2e-9])"
   ]
  },
  {
   "cell_type": "markdown",
   "metadata": {},
   "source": [
    "#### SNR plots\n",
    "\n",
    "These are the plots for the same F0_B1, but considering UNEK and CNET"
   ]
  },
  {
   "cell_type": "code",
   "execution_count": 23,
   "metadata": {},
   "outputs": [
    {
     "name": "stdout",
     "output_type": "stream",
     "text": [
      "\n",
      "Histogram Info\n",
      "\n",
      "Bin, TP, FP, FN, Purity, Err_Pur, Completness, Err_Com\n",
      "6.95E-02, 2, 248, 107, 0.01, 0.01, 0.02, 0.01\n",
      "1.13E-01, 4, 30, 168, 0.12, 0.06, 0.02, 0.01\n",
      "1.83E-01, 13, 23, 458, 0.36, 0.08, 0.03, 0.01\n",
      "2.98E-01, 38, 26, 953, 0.59, 0.06, 0.04, 0.01\n",
      "4.83E-01, 108, 38, 1337, 0.74, 0.04, 0.07, 0.01\n",
      "7.85E-01, 246, 41, 1248, 0.86, 0.02, 0.16, 0.01\n",
      "1.27E+00, 631, 53, 676, 0.92, 0.01, 0.48, 0.01\n",
      "2.07E+00, 986, 52, 237, 0.95, 0.01, 0.81, 0.01\n",
      "3.36E+00, 1055, 53, 93, 0.95, 0.01, 0.92, 0.01\n",
      "5.46E+00, 789, 31, 30, 0.96, 0.01, 0.96, 0.01\n",
      "8.86E+00, 525, 24, 6, 0.96, 0.01, 0.99, 0.00\n",
      "1.44E+01, 329, 5, 1, 0.99, 0.01, 1.00, 0.00\n",
      "2.34E+01, 173, 5, 1, 0.97, 0.01, 0.99, 0.01\n",
      "3.79E+01, 75, 3, 0, 0.96, 0.02, 1.00, 0.00\n",
      "6.16E+01, 24, 1, 0, 0.96, 0.04, 1.00, 0.00\n"
     ]
    },
    {
     "data": {
      "image/png": "[encoded data removed]",
      "text/plain": [
       "<Figure size 360x360 with 1 Axes>"
      ]
     },
     "metadata": {
      "needs_background": "light"
     },
     "output_type": "display_data"
    },
    {
     "data": {
      "image/png": "[encoded data removed]",
      "text/plain": [
       "<Figure size 360x360 with 1 Axes>"
      ]
     },
     "metadata": {
      "needs_background": "light"
     },
     "output_type": "display_data"
    },
    {
     "data": {
      "text/plain": [
       "0"
      ]
     },
     "execution_count": 23,
     "metadata": {},
     "output_type": "execute_result"
    }
   ],
   "source": [
    "legend_loc = \"best\"\n",
    "\n",
    "plot_metrics_snr_all([path_to_unek_stat_f0_b1], legend_loc,\n",
    "                     [f\"UNEK-F0-B1\"], 2,\n",
    "                     vthreshold=[1.3, 3.0])"
   ]
  },
  {
   "cell_type": "markdown",
   "metadata": {},
   "source": [
    "#### SBR plots\n",
    "\n",
    "Same combinations as SNR"
   ]
  },
  {
   "cell_type": "code",
   "execution_count": 24,
   "metadata": {},
   "outputs": [
    {
     "name": "stdout",
     "output_type": "stream",
     "text": [
      "\n",
      "Histogram Info\n",
      "\n",
      "Bin, TP, FP, FN, Purity, Err_Pur, Completness, Err_Com\n",
      "1.00E-02, 2, 38, 67, 0.05, 0.03, 0.03, 0.02\n",
      "1.62E-02, 7, 29, 153, 0.19, 0.07, 0.04, 0.02\n",
      "2.64E-02, 11, 16, 241, 0.41, 0.09, 0.04, 0.01\n",
      "4.28E-02, 22, 17, 411, 0.56, 0.08, 0.05, 0.01\n",
      "6.95E-02, 35, 25, 631, 0.58, 0.06, 0.05, 0.01\n",
      "1.13E-01, 110, 25, 846, 0.81, 0.03, 0.12, 0.01\n",
      "1.83E-01, 220, 33, 1031, 0.87, 0.02, 0.18, 0.01\n",
      "2.98E-01, 470, 52, 846, 0.90, 0.01, 0.36, 0.01\n",
      "4.83E-01, 694, 47, 553, 0.94, 0.01, 0.56, 0.01\n",
      "7.85E-01, 913, 46, 232, 0.95, 0.01, 0.80, 0.01\n",
      "1.27E+00, 886, 39, 95, 0.96, 0.01, 0.90, 0.01\n",
      "2.07E+00, 615, 28, 61, 0.96, 0.01, 0.91, 0.01\n",
      "3.36E+00, 446, 19, 31, 0.96, 0.01, 0.94, 0.01\n",
      "5.46E+00, 262, 4, 10, 0.98, 0.01, 0.96, 0.01\n",
      "8.86E+00, 166, 3, 2, 0.98, 0.01, 0.99, 0.01\n",
      "1.44E+01, 83, 4, 1, 0.95, 0.02, 0.99, 0.01\n",
      "2.34E+01, 29, 1, 1, 0.97, 0.03, 0.97, 0.03\n",
      "3.79E+01, 8, 1, 1, 0.89, 0.10, 0.89, 0.10\n",
      "6.16E+01, 9, 3, 0, 0.75, 0.12, 1.00, 0.00\n"
     ]
    },
    {
     "data": {
      "image/png": "[encoded data removed]",
      "text/plain": [
       "<Figure size 360x360 with 1 Axes>"
      ]
     },
     "metadata": {
      "needs_background": "light"
     },
     "output_type": "display_data"
    },
    {
     "data": {
      "image/png": "[encoded data removed]",
      "text/plain": [
       "<Figure size 360x360 with 1 Axes>"
      ]
     },
     "metadata": {
      "needs_background": "light"
     },
     "output_type": "display_data"
    },
    {
     "data": {
      "text/plain": [
       "0"
      ]
     },
     "execution_count": 24,
     "metadata": {},
     "output_type": "execute_result"
    }
   ],
   "source": [
    "legend_loc = \"lower right\"\n",
    "\n",
    "plot_metrics_sbr_all([path_to_unek_stat_f0_b1], legend_loc, \n",
    "                     [f\"UNEK-F0-B1\"], 2,\n",
    "                     vthreshold=[0.3, 1.1])"
   ]
  }
 ],
 "metadata": {
  "kernelspec": {
   "display_name": "Python 3",
   "language": "python",
   "name": "python3"
  },
  "language_info": {
   "codemirror_mode": {
    "name": "ipython",
    "version": 3
   },
   "file_extension": ".py",
   "mimetype": "text/x-python",
   "name": "python",
   "nbconvert_exporter": "python",
   "pygments_lexer": "ipython3",
   "version": "3.7.6"
  }
 },
 "nbformat": 4,
 "nbformat_minor": 2
}
